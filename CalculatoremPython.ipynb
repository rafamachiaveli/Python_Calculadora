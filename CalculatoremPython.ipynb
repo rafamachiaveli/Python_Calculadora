{
  "nbformat": 4,
  "nbformat_minor": 0,
  "metadata": {
    "colab": {
      "name": "CalculatoremPython",
      "provenance": [],
      "collapsed_sections": [],
      "authorship_tag": "ABX9TyOIrU4wwDDdnvn7gPge2T59",
      "include_colab_link": true
    },
    "kernelspec": {
      "name": "python3",
      "display_name": "Python 3"
    },
    "language_info": {
      "name": "python"
    }
  },
  "cells": [
    {
      "cell_type": "markdown",
      "metadata": {
        "id": "view-in-github",
        "colab_type": "text"
      },
      "source": [
        "<a href=\"https://colab.research.google.com/github/westerbeg/Test_01/blob/master/CalculatoremPython.ipynb\" target=\"_parent\"><img src=\"https://colab.research.google.com/assets/colab-badge.svg\" alt=\"Open In Colab\"/></a>"
      ]
    },
    {
      "cell_type": "code",
      "execution_count": null,
      "metadata": {
        "id": "-pVAJhwj0p12"
      },
      "outputs": [],
      "source": [
        "print('*******Python Calculadora*******')\n",
        "\n",
        "print('\\nSelecione o número da operação desejada:')\n",
        "\n",
        "\n",
        "print('\\n1 - SOMA')\n",
        "print('2 - SUBTRAÇÃO')\n",
        "print('3 - MULTIPLICAÇÃO')\n",
        "print('4 - DIVISÃO')\n",
        "\n",
        "\n",
        "opcao_desejada = int(input('Digite sua Opcção (1|2|3|4): '))\n",
        "\n",
        "if opcao_desejada == (1): \n",
        "  n1_soma = int(input('Digite o primeiro número: '))\n",
        "  n2_soma = int(input('Digite o segundo número: '))\n",
        "  valor_soma = n1_soma + n2_soma\n",
        "  print(f'Resposta Somada:{n1_soma} + {n2_soma} = {valor_soma}')\n",
        "\n",
        "if opcao_desejada == (2):\n",
        "  n1_sub = float(input('Digite o primeiro número: '))\n",
        "  n2_sub = float(input('Digite o segundo número: '))\n",
        "  valor_sub = n1_sub - n2_sub\n",
        "  print(f'Resposta Subtraida:{n1_sub} - {n2_sub} = {valor_sub}')\n",
        "\n",
        "if opcao_desejada == (3):\n",
        "  n1_mult = float(input('Digite o primeiro número: '))\n",
        "  n2_mult = float(input('Digite o segundo número: '))\n",
        "  valor_mult = n1_mult * n2_mult\n",
        "  print(f'Resposta Multiplicada:{n1_mult} * {n2_mult} = {valor_mult}')\n",
        "\n",
        "if opcao_desejada == (4):\n",
        "  n1_div = float(input('Digite o primeiro número: '))\n",
        "  n2_div = float(input('Digite o segundo número: '))\n",
        "  valor_div =  n1_div / n2_div\n",
        "  print(f'Resposta Divida:{n1_div} / {n2_div} = {valor_div}')\n",
        "\n",
        "\n",
        "#Não consegui fazer essa condição ainda\n",
        "#if opcao_desejada == (5, 6, 7):\n",
        "  #print('NÚMERO INVÁLIDO')"
      ]
    },
    {
      "cell_type": "code",
      "source": [
        ""
      ],
      "metadata": {
        "id": "CIaG11lU275K"
      },
      "execution_count": null,
      "outputs": []
    }
  ]
}