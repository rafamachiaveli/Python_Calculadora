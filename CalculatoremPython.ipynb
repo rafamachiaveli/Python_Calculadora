{
  "nbformat": 4,
  "nbformat_minor": 0,
  "metadata": {
    "colab": {
      "name": "CalculatoremPython",
      "provenance": [],
      "collapsed_sections": [],
      "authorship_tag": "ABX9TyMY9U6tSvSRqXAh5MdDD8G1",
      "include_colab_link": true
    },
    "kernelspec": {
      "name": "python3",
      "display_name": "Python 3"
    },
    "language_info": {
      "name": "python"
    }
  },
  "cells": [
    {
      "cell_type": "markdown",
      "metadata": {
        "id": "view-in-github",
        "colab_type": "text"
      },
      "source": [
        "<a href=\"https://colab.research.google.com/github/westerbeg/Python_Calculadora/blob/master/CalculatoremPython.ipynb\" target=\"_parent\"><img src=\"https://colab.research.google.com/assets/colab-badge.svg\" alt=\"Open In Colab\"/></a>"
      ]
    },
    {
      "cell_type": "code",
      "source": [
        "# Calculadora em Python\n",
        "\n",
        "print(\"\\n******************* Python Calculator *******************\")\n",
        "\n",
        "def add(x, y):\n",
        "\treturn x + y\n",
        "\n",
        "def subtract(x, y):\n",
        "\treturn x - y\n",
        "\n",
        "def multiply(x, y):\n",
        "\treturn x * y\n",
        "\n",
        "def divide(x, y):\n",
        "\treturn x / y\n",
        "\n",
        "print(\"\\nSelecione o número da operação desejada: \\n\")\n",
        "print(\"1 - Soma\")\n",
        "print(\"2 - Subtração\")\n",
        "print(\"3 - Multiplicação\")\n",
        "print(\"4 - Divisão\")\n",
        "\n",
        "escolha = input(\"\\nDigite sua opção (1/2/3/4): \")\n",
        "\n",
        "num1 = int(input(\"\\nDigite o primeiro número: \"))\n",
        "num2 = int(input(\"\\nDigite o segundo número: \"))\n",
        "\n",
        "if escolha == '1':\n",
        "\tprint(\"\\n\")\n",
        "\tprint(num1, \"+\", num2, \"=\", add(num1, num2))\n",
        "\tprint(\"\\n\")\n",
        "\n",
        "elif escolha == '2':\n",
        "\tprint(\"\\n\")\n",
        "\tprint(num1, \"-\", num2, \"=\", subtract(num1, num2))\n",
        "\tprint(\"\\n\")\n",
        "\n",
        "elif escolha == '3':\n",
        "\tprint(\"\\n\")\n",
        "\tprint(num1, \"*\", num2, \"=\", multiply(num1, num2))\n",
        "\tprint(\"\\n\")\n",
        "\n",
        "elif escolha == '4':\n",
        "\tprint(\"\\n\")\n",
        "\tprint(num1, \"/\", num2, \"=\", divide(num1, num2))\n",
        "\tprint(\"\\n\")\n",
        "\n",
        "else:\n",
        "\tprint(\"\\nOpção Inválida!\")"
      ],
      "metadata": {
        "id": "CIaG11lU275K"
      },
      "execution_count": null,
      "outputs": []
    },
    {
      "cell_type": "code",
      "source": [
        ""
      ],
      "metadata": {
        "id": "8b-RYg7agSXZ"
      },
      "execution_count": null,
      "outputs": []
    }
  ]
}